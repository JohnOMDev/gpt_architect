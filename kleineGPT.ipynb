{
 "cells": [
  {
   "cell_type": "markdown",
   "id": "1e8fdd51",
   "metadata": {},
   "source": [
    "#### Training the Transformer model, as emphasized in \"Attention is All You Need\" implemented by Andrej Karpathy."
   ]
  },
  {
   "cell_type": "code",
   "execution_count": 9,
   "id": "22bd402b",
   "metadata": {},
   "outputs": [],
   "source": [
    "import torch\n",
    "import tiktoken\n",
    "import pickle\n",
    "import argparse\n",
    "from model import BigramLanguageModel\n",
    "from dataclasses import dataclass\n"
   ]
  },
  {
   "cell_type": "code",
   "execution_count": 10,
   "id": "227da1f6",
   "metadata": {},
   "outputs": [
    {
     "data": {
      "text/plain": [
       "<torch._C.Generator at 0x1078738d0>"
      ]
     },
     "execution_count": 10,
     "metadata": {},
     "output_type": "execute_result"
    }
   ],
   "source": [
    "device ='cuda' if torch.cuda.is_available() else 'cpu'\n",
    "\n",
    "torch.manual_seed(1337)"
   ]
  },
  {
   "cell_type": "code",
   "execution_count": 28,
   "id": "3b95c8d9",
   "metadata": {},
   "outputs": [],
   "source": [
    "@dataclass\n",
    "class GPTConfig:\n",
    "    block_size: int = 64\n",
    "    batch_size:int = 256\n",
    "    vocab_size: int = 50304 # GPT-2 vocab_size of 50257, padded up to nearest multiple of 64 for efficiency\n",
    "    n_layer: int = 2\n",
    "    n_head: int = 2\n",
    "    n_embd: int = 384\n",
    "    dropout: float = 0.2\n",
    "    learning_rate:float = 3e-4\n",
    "    max_iters:int = 1000\n",
    "    eval_iters:int = 384\n",
    "    eval_interval:int = 250\n",
    "    bias: bool = True # True: bias in Linears and LayerNorms, like GPT-2. False: a bit better and faster\n"
   ]
  },
  {
   "cell_type": "code",
   "execution_count": 29,
   "id": "8f6dd7ea",
   "metadata": {},
   "outputs": [],
   "source": [
    "config = GPTConfig()\n",
    "model = BigramLanguageModel(config)\n",
    "with open(\"model-gpt-01.pkl\", 'rb') as f:\n",
    "    model = pickle.load(f)\n",
    "\n",
    "m =model.to(device)"
   ]
  },
  {
   "cell_type": "code",
   "execution_count": 31,
   "id": "940a54c6",
   "metadata": {},
   "outputs": [],
   "source": [
    "prompt = \"Bad order\""
   ]
  },
  {
   "cell_type": "code",
   "execution_count": 19,
   "id": "abb733a6",
   "metadata": {},
   "outputs": [
    {
     "ename": "RuntimeError",
     "evalue": "Storage size calculation overflowed with sizes=[40, 8359, 262, 42807, 9015, 379, 509, 4851, 780]",
     "output_type": "error",
     "traceback": [
      "\u001b[0;31m---------------------------------------------------------------------------\u001b[0m",
      "\u001b[0;31mRuntimeError\u001b[0m                              Traceback (most recent call last)",
      "Cell \u001b[0;32mIn[19], line 3\u001b[0m\n\u001b[1;32m      1\u001b[0m enc \u001b[38;5;241m=\u001b[39mtiktoken\u001b[38;5;241m.\u001b[39mget_encoding(\u001b[38;5;124m'\u001b[39m\u001b[38;5;124mgpt2\u001b[39m\u001b[38;5;124m'\u001b[39m)  \n\u001b[1;32m      2\u001b[0m \u001b[38;5;66;03m# generate from the model\u001b[39;00m\n\u001b[0;32m----> 3\u001b[0m context \u001b[38;5;241m=\u001b[39m \u001b[43mtorch\u001b[49m\u001b[38;5;241;43m.\u001b[39;49m\u001b[43mzeros\u001b[49m\u001b[43m(\u001b[49m\u001b[43menc\u001b[49m\u001b[38;5;241;43m.\u001b[39;49m\u001b[43mencode_ordinary\u001b[49m\u001b[43m(\u001b[49m\u001b[43mprompt\u001b[49m\u001b[43m)\u001b[49m\u001b[43m,\u001b[49m\u001b[43m \u001b[49m\u001b[43mdtype\u001b[49m\u001b[38;5;241;43m=\u001b[39;49m\u001b[43mtorch\u001b[49m\u001b[38;5;241;43m.\u001b[39;49m\u001b[43mlong\u001b[49m\u001b[43m,\u001b[49m\u001b[43m \u001b[49m\u001b[43mdevice\u001b[49m\u001b[38;5;241;43m=\u001b[39;49m\u001b[43mdevice\u001b[49m\u001b[43m)\u001b[49m\n",
      "\u001b[0;31mRuntimeError\u001b[0m: Storage size calculation overflowed with sizes=[40, 8359, 262, 42807, 9015, 379, 509, 4851, 780]"
     ]
    }
   ],
   "source": [
    "enc =tiktoken.get_encoding('gpt2')  \n",
    "# generate from the model\n",
    "context = torch.zeros(enc.encode_ordinary(prompt), dtype=torch.long, device=device)"
   ]
  },
  {
   "cell_type": "code",
   "execution_count": null,
   "id": "390d0ec7",
   "metadata": {},
   "outputs": [],
   "source": [
    "print(enc.decode(m.generate(context, max_new_tokens=1000)[0].tolist()))"
   ]
  },
  {
   "cell_type": "code",
   "execution_count": null,
   "id": "26b444b2",
   "metadata": {},
   "outputs": [],
   "source": []
  }
 ],
 "metadata": {
  "kernelspec": {
   "display_name": "Python 3 (ipykernel)",
   "language": "python",
   "name": "python3"
  },
  "language_info": {
   "codemirror_mode": {
    "name": "ipython",
    "version": 3
   },
   "file_extension": ".py",
   "mimetype": "text/x-python",
   "name": "python",
   "nbconvert_exporter": "python",
   "pygments_lexer": "ipython3",
   "version": "3.10.9"
  }
 },
 "nbformat": 4,
 "nbformat_minor": 5
}
