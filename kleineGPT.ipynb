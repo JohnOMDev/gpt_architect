{
 "cells": [
  {
   "cell_type": "markdown",
   "id": "0bae0c69",
   "metadata": {},
   "source": [
    "#### Training the Transformer model, as emphasized in \"Attention is All You Need\" implemented by Andrej Karpathy."
   ]
  },
  {
   "cell_type": "code",
   "execution_count": 1,
   "id": "c244bc06",
   "metadata": {},
   "outputs": [],
   "source": [
    "import torch\n",
    "import tiktoken\n",
    "import pickle\n",
    "import argparse\n",
    "from model import BigramLanguageModel\n",
    "from dataclasses import dataclass\n"
   ]
  },
  {
   "cell_type": "code",
   "execution_count": 3,
   "id": "2f0fb910",
   "metadata": {},
   "outputs": [
    {
     "data": {
      "text/plain": [
       "<torch._C.Generator at 0x106587870>"
      ]
     },
     "execution_count": 3,
     "metadata": {},
     "output_type": "execute_result"
    }
   ],
   "source": [
    "device ='cuda' if torch.cuda.is_available() else 'cpu'\n",
    "\n",
    "torch.manual_seed(1337)"
   ]
  },
  {
   "cell_type": "code",
   "execution_count": 4,
   "id": "5ac6a0c3",
   "metadata": {},
   "outputs": [],
   "source": [
    "@dataclass\n",
    "class GPTConfig:\n",
    "    block_size: int = 64\n",
    "    batch_size:int = 256\n",
    "    vocab_size: int = 50304 # GPT-2 vocab_size of 50257, padded up to nearest multiple of 64 for efficiency\n",
    "    n_layer: int = 2\n",
    "    n_head: int = 2\n",
    "    n_embd: int = 384\n",
    "    dropout: float = 0.2\n",
    "    learning_rate:float = 3e-4\n",
    "    max_iters:int = 1000\n",
    "    eval_iters:int = 384\n",
    "    eval_interval:int = 250\n",
    "    bias: bool = True # True: bias in Linears and LayerNorms, like GPT-2. False: a bit better and faster\n"
   ]
  },
  {
   "cell_type": "code",
   "execution_count": null,
   "id": "1dde9e93",
   "metadata": {},
   "outputs": [],
   "source": [
    "config = GPTConfig()\n",
    "model = BigramLanguageModel(config)\n",
    "with open(\"model-gpt-01.pkl\", 'rb') as f:\n",
    "    model = pickle.load(f)\n",
    "\n",
    "m =model.to(device)"
   ]
  },
  {
   "cell_type": "code",
   "execution_count": null,
   "id": "5898b552",
   "metadata": {},
   "outputs": [],
   "source": [
    "prompt = \"Bad order\""
   ]
  },
  {
   "cell_type": "code",
   "execution_count": null,
   "id": "c60825b1",
   "metadata": {},
   "outputs": [],
   "source": [
    "enc =tiktoken.get_encoding('gpt2')  \n",
    "# generate from the model\n",
    "context = torch.zeros(enc.encode_ordinary(prompt), dtype=torch.long, device=device)"
   ]
  },
  {
   "cell_type": "code",
   "execution_count": null,
   "id": "47fceff0",
   "metadata": {},
   "outputs": [],
   "source": [
    "print(enc.decode(m.generate(context, max_new_tokens=1000)[0].tolist()))"
   ]
  }
 ],
 "metadata": {
  "kernelspec": {
   "display_name": "Python 3 (ipykernel)",
   "language": "python",
   "name": "python3"
  },
  "language_info": {
   "codemirror_mode": {
    "name": "ipython",
    "version": 3
   },
   "file_extension": ".py",
   "mimetype": "text/x-python",
   "name": "python",
   "nbconvert_exporter": "python",
   "pygments_lexer": "ipython3",
   "version": "3.10.9"
  }
 },
 "nbformat": 4,
 "nbformat_minor": 5
}
